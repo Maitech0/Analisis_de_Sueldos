{
 "cells": [
  {
   "cell_type": "markdown",
   "id": "fd3fa483-c0db-463e-94d7-99b33e0f342e",
   "metadata": {},
   "source": [
    "# Análisis de sueldos con Python"
   ]
  },
  {
   "cell_type": "markdown",
   "id": "ade5a290-3d22-4151-bedf-8a51fcac2300",
   "metadata": {},
   "source": [
    "## Data\n",
    "\n",
    "* [2021.2 - sysarmy - Encuesta de remuneración salarial Argentina\n",
    "](https://docs.google.com/spreadsheets/d/1-ZRznwS4TK74o90aOiCKS5SiXxUQ2buN1wxZIMHQmzQ/edit#gid=557755710) \n",
    "* [2021.2 - sysarmy - Encuesta de remuneración salarial Latam\n",
    "](https://docs.google.com/spreadsheets/d/1BkBNt1MHVS7DeIlpgmK9l6krtSQ5t_olRhlcyxMeKy0/edit#gid=557755710)"
   ]
  },
  {
   "cell_type": "markdown",
   "id": "684accd7-8da2-41d5-985b-caa44133b114",
   "metadata": {},
   "source": [
    "1. Descargar, leer y unir en una sola estructura de datos. ¿Qué estructura elegiste y por qué?"
   ]
  },
  {
   "cell_type": "code",
   "execution_count": 1,
   "id": "cfa3ef02-5aba-4793-8a27-a1fdc4fb7111",
   "metadata": {
    "scrolled": true
   },
   "outputs": [
    {
     "name": "stdout",
     "output_type": "stream",
     "text": [
      "6440\n",
      "{'Ciudad': 'Santa Fe', 'Tipo contrato': 'Full-Time', 'Salario Bruto': '140000', 'Salario Neto': '117000', 'Pagos en dólares': '', 'Valor de dolar tomado': '', 'Conformidad con sueldo': '3', 'Conformidad con sueldo último semestre': '1', 'Bono': 'No', 'A qué está atado el bono': 'No recibo bono', 'Ajustes por inflación 2021': 'Uno', '% del ajuste': '13', 'Mes de Ajuse': '4', 'Puesto': 'SysAdmin / DevOps / SRE', 'Años de experiencia': '7', 'Años en la empresa': '13', 'Años en el puesto': '7', 'Gente a cargo': '1', 'Plataformas': '\"AIX|Google Cloud Platform/App Engine|Linux|SAP|VMWare|Windows Server\"', 'Lenguajes de programación - tecnologías': '\"ABAP|HTML|PHP|SQL\"', 'Frameworks - herramientas - librerías': 'SAP', 'Bases de datos': '\"Microsoft SQL Server|MySQL\"', 'QA / Testing': 'Ninguna de las anteriores', 'IDEs': 'Ninguno de los anteriores', 'Cantidad de personas en org': '2001-5000', 'Org con oficina en mi ciudad': '', 'Actividad principal': 'Otras industrias', 'eNPS': '6', 'Calificación de políticas de diversidad e inclusión': '6', 'Beneficios extra': '\"Capacitaciones y/o cursos|Comidas pagas / subvencionadas|Estacionamiento gratuito / subvencionado\"', 'Salir o seguir Estudios': 'Quiero responder más preguntas', 'Nivel de estudios alcanzado': 'Universitario', 'Estado': 'Incompleto', 'Carrera': 'Licenciatura en Sistemas de Información', 'Universidad': 'UCA - Universidad Católica Argentina', 'Cursos de especialización': '\"Sí|de forma particular|Sí|los pagó un empleador\"', '¿Contribuís a proyectos open source?': 'No', '¿Programás como hobbie?': 'No', 'Salir o seguir Guardias': 'Quiero responder más preguntas', '¿Tenés guardias?': '\"Sí|pasiva\"', 'Cuánto cobrás por guardia': '0', '¿Porcentaje, bruto o neto?': 'Porcentaje de mi sueldo', 'Salir o seguir Seguridad Laboral': 'Quiero responder más preguntas', '¿Situaciones de violencia laboral?': 'En mi trabajo actual', '¿Tenés algún tipo de discapacidad?': '', 'Dificultad para conseguir trabajo por discapacidad': 'No', 'Salir o seguir Pandemia': 'Quiero responder más preguntas', '¿Cómo venís llevando la pandemia?': '3', '¿Tenés hijos/as menores de edad?': '2', '¿Con cuántas personas estás conviviendo?': '4', '¿Con quiénes convivís?': 'Familia de origen (madre/padre/hermanos/as)', '¿Tenés un espacio dedicado para el trabajo?': 'No', '¿Tenés que compartir tu equipo de trabajo con alguien?': 'No', '¿Qué tipo de cuarentena hiciste / estás haciendo?': '3', '¿Cambió tu situación laboral a raíz de la pandemia?': 'No', 'Apoyo de empresa/organización en esta situación?': '7', '¿Cómo se vio afectada tu empresa/organización?': '\"No la afectó|Se vio beneficiada\"', '¿Instauraron algún beneficio nuevo?': 'Ninguna de las anteriores', 'Edad': '39', 'Identidad Sex': 'Prefiero no decir\\n', 'Pais': 'Argentina'}\n",
      "{'Pais': 'Venezuela', 'Ciudad': 'San Cristóbal', 'Tipo contrato': 'Full-Time', 'Salario Bruto': '350', 'Salario Neto': '350', 'Pagos en dólares': 'Cobro en dólares', 'Valor de dolar tomado': '', 'Conformidad con sueldo': '2', 'Conformidad con sueldo último semestre': '2', 'Bono': 'No', 'A qué está atado el bono': 'No recibo bono', 'Ajustes por inflación 2021': 'No', '% del ajuste': '0', 'Mes de Ajuse': '0', 'Puesto': 'SysAdmin / DevOps / SRE', 'Años de experiencia': '10', 'Años en la empresa': '1', 'Años en el puesto': '1', 'Gente a cargo': '0', 'Plataformas': '\"Amazon Web Services|Docker|Linux\"', 'Lenguajes de programación - tecnologías': '\"Bash/Shell|PHP|Python|TypeScript\"', 'Frameworks - herramientas - librerías': '\"Angular|Laravel\"', 'Bases de datos': '\"MariaDB|PostgreSQL\"', 'QA / Testing': 'Ninguna de las anteriores', 'IDEs': 'Vim', 'Cantidad de personas en org': '11-50', 'Org con oficina en mi ciudad': '', 'Actividad principal': 'Servicios / Consultoría de Software / Digital', 'eNPS': '4', 'Calificación de políticas de diversidad e inclusión': '5', 'Beneficios extra': 'Horarios flexibles', 'Salir o seguir Estudios': 'Quiero responder más preguntas', 'Nivel de estudios alcanzado': 'Terciario', 'Estado': 'Completado', 'Carrera': 'Tecnicatura Electrónica', 'Universidad': 'IUTPAL', 'Cursos de especialización': '\"Sí|de forma particular\"', '¿Contribuís a proyectos open source?': 'No', '¿Programás como hobbie?': 'No', 'Salir o seguir Guardias': 'Quiero responder más preguntas', '¿Tenés guardias?': 'No', 'Cuánto cobrás por guardia': '0', '¿Porcentaje, bruto o neto?': 'Neto', 'Salir o seguir Seguridad Laboral': 'Quiero responder más preguntas', '¿Situaciones de violencia laboral?': 'En mi trabajo actual', '¿Tenés algún tipo de discapacidad?': '', 'Dificultad para conseguir trabajo por discapacidad': '', 'Salir o seguir Pandemia': 'Quiero responder más preguntas', '¿Cómo venís llevando la pandemia?': '4', '¿Tenés hijos/as menores de edad?': '1', '¿Con cuántas personas estás conviviendo?': '2', '¿Con quiénes convivís?': '\"Familia de origen (madre/padre/hermanos/as)|Hijos/as (tiempo dividido)\"', '¿Tenés un espacio dedicado para el trabajo?': 'Sí', '¿Tenés que compartir tu equipo de trabajo con alguien?': 'No', '¿Qué tipo de cuarentena hiciste / estás haciendo?': '3', '¿Cambió tu situación laboral a raíz de la pandemia?': 'No', 'Apoyo de empresa/organización en esta situación?': '6', '¿Cómo se vio afectada tu empresa/organización?': 'No la afectó', '¿Instauraron algún beneficio nuevo?': 'Ninguna de las anteriores', 'Edad': '44', 'Identidad Sex': 'Varón Cis'}\n",
      "6869\n"
     ]
    }
   ],
   "source": [
    "path_to_file_1 = \"2021.2_-_sysarmy_-_Encuesta_de_remuneracion_salarial_Argentina_-_Argentina.csv\"\n",
    "path_to_file_2 = \"2021.2_-_sysarmy_-_Encuesta_de_remuneracion_salarial_Latam_-_Latam.csv\"\n",
    "\n",
    "raw_cases_ARG = []\n",
    "raw_cases_LATAM = []\n",
    "cases_list = []\n",
    "\n",
    "\n",
    "with open(f\"{path_to_file_1}\", \"r\") as f1:\n",
    "    for line in iter(f1.readline, \"\"):\n",
    "        raw_cases_ARG.append(line.replace(\", \",\"|\").split(\",\"))\n",
    "\n",
    "\n",
    "with open(f\"{path_to_file_2}\", \"r\") as f2:\n",
    "    for line in iter(f2.readline, \"\"):\n",
    "        raw_cases_LATAM.append(line.replace(\", \",\"|\").split(\",\"))\n",
    "        \n",
    "\n",
    "del raw_cases_ARG[:10]\n",
    "del raw_cases_LATAM[:11]\n",
    "\n",
    "\n",
    "\n",
    "for case in raw_cases_ARG:\n",
    "    cases_list.append({\n",
    "    \"Ciudad\": \"\",\n",
    "    \"Tipo contrato\": \"\",\n",
    "    \"Salario Bruto\": 0 ,\n",
    "    \"Salario Neto\" : 0 ,\n",
    "    \"Pagos en dólares\": 0 ,\n",
    "    \"Valor de dolar tomado\": 0 ,\n",
    "    \"Conformidad con sueldo\": 0 ,\n",
    "    \"Conformidad con sueldo último semestre\": 0 ,\n",
    "    \"Bono\": \"\",\n",
    "    \"A qué está atado el bono\": \"\",\n",
    "    \"Ajustes por inflación 2021\": \"\",\n",
    "    \"% del ajuste\": 0,\n",
    "    \"Mes de Ajuse\": 0,\n",
    "    \"Puesto\": \"\",\n",
    "    \"Años de experiencia\": 0,\n",
    "    \"Años en la empresa\": 0,\n",
    "    \"Años en el puesto\": 0,\n",
    "    \"Gente a cargo\": 0,\n",
    "    \"Plataformas\": 0,\n",
    "    \"Lenguajes de programación - tecnologías\": \"\",\n",
    "    'Frameworks - herramientas - librerías': \"\",\n",
    "    \"Bases de datos\": '',\n",
    "    \"QA / Testing\": \"\",\n",
    "    \"IDEs\": \"\",\n",
    "    \"Cantidad de personas en org\": 0,\n",
    "    \"Org con oficina en mi ciudad\": \"\",\n",
    "    \"Actividad principal\": \"\",\n",
    "    \"eNPS\": 0,\n",
    "    \"Calificación de políticas de diversidad e inclusión\": 0,\n",
    "    \"Beneficios extra\": \"\",\n",
    "    \"Salir o seguir Estudios\":\"\",\n",
    "    \"Nivel de estudios alcanzado\": \"\",\n",
    "    \"Estado\": \"\",\n",
    "    \"Carrera\": \"\",\n",
    "    \"Universidad\": \"\",\n",
    "    \"Cursos de especialización\": \"\",\n",
    "    \"¿Contribuís a proyectos open source?\": \"\",\n",
    "    \"¿Programás como hobbie?\": \"\",\n",
    "    \"Salir o seguir Guardias\": \"\",\n",
    "    \"¿Tenés guardias?\": \"\",\n",
    "    \"Cuánto cobrás por guardia\": \"\",\n",
    "    \"¿Porcentaje, bruto o neto?\": \"\",\n",
    "    \"Salir o seguir Seguridad Laboral\": \"\",\n",
    "    \"¿Situaciones de violencia laboral?\": \"\",\n",
    "    \"¿Tenés algún tipo de discapacidad?\": \"\",\n",
    "    \"Dificultad para conseguir trabajo por discapacidad\": \"\",\n",
    "    \"Salir o seguir Pandemia\": \"\",\n",
    "    \"¿Cómo venís llevando la pandemia?\": \"\",\n",
    "    \"¿Tenés hijos/as menores de edad?\": \"\",\n",
    "    \"¿Con cuántas personas estás conviviendo?\": \"\",\n",
    "    \"¿Con quiénes convivís?\": \"\",\n",
    "    \"¿Tenés un espacio dedicado para el trabajo?\": \"\",\n",
    "    \"¿Tenés que compartir tu equipo de trabajo con alguien?\": \"\",\n",
    "    \"¿Qué tipo de cuarentena hiciste / estás haciendo?\": \"\",\n",
    "    \"¿Cambió tu situación laboral a raíz de la pandemia?\": \"\",\n",
    "    \"Apoyo de empresa/organización en esta situación?\": \"\",\n",
    "    \"¿Cómo se vio afectada tu empresa/organización?\": \"\",\n",
    "    \"¿Instauraron algún beneficio nuevo?\": \"\",\n",
    "    \"Edad\": \"\",\n",
    "    \"Identidad Sex\": \"\",        \n",
    "        \n",
    "})\n",
    "\n",
    "try:\n",
    "    for i, case in enumerate(raw_cases_ARG):\n",
    "        for j, key  in enumerate(cases_list[i].keys()):\n",
    "            cases_list[i][key] = raw_cases_ARG[i][j]\n",
    "except IndexError:\n",
    "    print(\"index error en línea \"+ str(raw_cases_ARG.index(raw_cases_ARG[i])) + str(raw_cases_ARG[i]))\n",
    "    \n",
    "\n",
    "for case in cases_list:\n",
    "    case.update({\"Pais\": \"Argentina\"})\n",
    "    \n",
    "aux_cases_list = []\n",
    "    \n",
    "for case in raw_cases_LATAM:\n",
    "    aux_cases_list.append({\"Pais\": case[0]})\n",
    "    \n",
    "countries_set = set()\n",
    "\n",
    "for case in raw_cases_LATAM:\n",
    "        countries_set.add(case[0])\n",
    "\n",
    "\n",
    "countries_list = list(countries_set)\n",
    "countries_list.sort()\n",
    "cites_cases_list = []\n",
    "\n",
    "\n",
    "for case in raw_cases_LATAM:\n",
    "    for country in countries_list:\n",
    "        if case[0] == country:\n",
    "            cites_cases_list.append ({\"Ciudad\": case[countries_list.index(country)+1]})\n",
    "\n",
    "for i, city in enumerate(cites_cases_list):\n",
    "    aux_cases_list[i].update(city)\n",
    "    \n",
    "for case in aux_cases_list:\n",
    "    case.update({\n",
    "    \"Tipo contrato\": \"\",\n",
    "    \"Salario Bruto\": 0 ,\n",
    "    \"Salario Neto\" : 0 ,\n",
    "    \"Pagos en dólares\": 0 ,\n",
    "    \"Valor de dolar tomado\": 0 ,\n",
    "    \"Conformidad con sueldo\": 0 ,\n",
    "    \"Conformidad con sueldo último semestre\": 0 ,\n",
    "    \"Bono\": \"\",\n",
    "    \"A qué está atado el bono\": \"\",\n",
    "    \"Ajustes por inflación 2021\": \"\",\n",
    "    \"% del ajuste\": 0,\n",
    "    \"Mes de Ajuse\": 0,\n",
    "    \"Puesto\": \"\",\n",
    "    \"Años de experiencia\": 0,\n",
    "    \"Años en la empresa\": 0,\n",
    "    \"Años en el puesto\": 0,\n",
    "    \"Gente a cargo\": 0,\n",
    "    \"Plataformas\": 0,\n",
    "    \"Lenguajes de programación - tecnologías\": \"\",\n",
    "    'Frameworks - herramientas - librerías': \"\",\n",
    "    \"Bases de datos\": '',\n",
    "    \"QA / Testing\": \"\",\n",
    "    \"IDEs\": \"\",\n",
    "    \"Cantidad de personas en org\": 0,\n",
    "    \"Org con oficina en mi ciudad\": \"\",\n",
    "    \"Actividad principal\": \"\",\n",
    "    \"eNPS\": 0,\n",
    "    \"Calificación de políticas de diversidad e inclusión\": 0,\n",
    "    \"Beneficios extra\": \"\",\n",
    "    \"Salir o seguir Estudios\":\"\",\n",
    "    \"Nivel de estudios alcanzado\": \"\",\n",
    "    \"Estado\": \"\",\n",
    "    \"Carrera\": \"\",\n",
    "    \"Universidad\": \"\",\n",
    "    \"Cursos de especialización\": \"\",\n",
    "    \"¿Contribuís a proyectos open source?\": \"\",\n",
    "    \"¿Programás como hobbie?\": \"\",\n",
    "    \"Salir o seguir Guardias\": \"\",\n",
    "    \"¿Tenés guardias?\": \"\",\n",
    "    \"Cuánto cobrás por guardia\": \"\",\n",
    "    \"¿Porcentaje, bruto o neto?\": \"\",\n",
    "    \"Salir o seguir Seguridad Laboral\": \"\",\n",
    "    \"¿Situaciones de violencia laboral?\": \"\",\n",
    "    \"¿Tenés algún tipo de discapacidad?\": \"\",\n",
    "    \"Dificultad para conseguir trabajo por discapacidad\": \"\",\n",
    "    \"Salir o seguir Pandemia\": \"\",\n",
    "    \"¿Cómo venís llevando la pandemia?\": \"\",\n",
    "    \"¿Tenés hijos/as menores de edad?\": \"\",\n",
    "    \"¿Con cuántas personas estás conviviendo?\": \"\",\n",
    "    \"¿Con quiénes convivís?\": \"\",\n",
    "    \"¿Tenés un espacio dedicado para el trabajo?\": \"\",\n",
    "    \"¿Tenés que compartir tu equipo de trabajo con alguien?\": \"\",\n",
    "    \"¿Qué tipo de cuarentena hiciste / estás haciendo?\": \"\",\n",
    "    \"¿Cambió tu situación laboral a raíz de la pandemia?\": \"\",\n",
    "    \"Apoyo de empresa/organización en esta situación?\": \"\",\n",
    "    \"¿Cómo se vio afectada tu empresa/organización?\": \"\",\n",
    "    \"¿Instauraron algún beneficio nuevo?\": \"\",\n",
    "    \"Edad\": \"\",\n",
    "    \"Identidad Sex\": \"\",        \n",
    "        \n",
    "})\n",
    "\n",
    "aux_cases_list_keys = list(aux_cases_list[0].keys())\n",
    "\n",
    "\n",
    "for i, case in enumerate(raw_cases_LATAM):\n",
    "    indi = len(countries_list)\n",
    "    for key  in aux_cases_list_keys[2:]:\n",
    "        indi+=1\n",
    "        aux_cases_list[i][key] = case [indi]\n",
    "\n",
    "print(len(cases_list))\n",
    "\n",
    "cases_list.extend(aux_cases_list)\n",
    "\n",
    "print(cases_list[6000])\n",
    "print(cases_list[6868])\n",
    "\n",
    "print(len(cases_list))\n"
   ]
  },
  {
   "cell_type": "markdown",
   "id": "de5c8bec-41ea-4173-9b42-8bb3e7435d90",
   "metadata": {},
   "source": [
    "2. Printear porcentaje de participación por región, ordenado de mayor a menor. Ej: \n",
    "\n",
    "```\n",
    "- Ciudad Autónoma de Buenos Aires - 59.4%\n",
    "- Formosa - 0.04%\n",
    "```"
   ]
  },
  {
   "cell_type": "code",
   "execution_count": null,
   "id": "ffc60133-8ed3-41ec-a745-904b74136a35",
   "metadata": {},
   "outputs": [],
   "source": []
  },
  {
   "cell_type": "markdown",
   "id": "c54ea6d9-29aa-4788-9abe-fe6fdb5ba797",
   "metadata": {},
   "source": [
    "3. Printear porcentaje de participación por tipo de rol, ordenado de mayor a menor. Ej:  \n",
    "`- Developer - 39.11 %`"
   ]
  },
  {
   "cell_type": "code",
   "execution_count": null,
   "id": "907bc7bd-1f7d-48be-9874-76813ebe89c2",
   "metadata": {},
   "outputs": [],
   "source": []
  },
  {
   "cell_type": "markdown",
   "id": "86afc125-4a66-42de-a238-2aeec44a43d1",
   "metadata": {},
   "source": [
    "4. Printear porcentaje de respuesta para las preguntas: \n",
    "* ¿Contribuís a proyectos Open Source?\n",
    "* ¿Programás por hobbie?"
   ]
  },
  {
   "cell_type": "code",
   "execution_count": null,
   "id": "43780b5a-1435-44ad-bc50-d5da3a8660e9",
   "metadata": {},
   "outputs": [],
   "source": []
  },
  {
   "cell_type": "markdown",
   "id": "d34da47a-01d6-4b6f-a8cd-0626de035376",
   "metadata": {},
   "source": [
    "5. Printear porcentaje por seniority según años de experiencia, el mapeo es:\n",
    "```\n",
    "Junior: de 0 hasta 2 años.\n",
    "Semi-Senior: de 2 años inclusive hasta 5 años.\n",
    "Senior: desde 5 años inclusive.\n",
    "``` "
   ]
  },
  {
   "cell_type": "code",
   "execution_count": null,
   "id": "7c54d9d9-fbd2-4057-882f-4d82bda0d7ef",
   "metadata": {},
   "outputs": [],
   "source": []
  },
  {
   "cell_type": "markdown",
   "id": "7a182336-14cd-4e10-82d5-920779453a87",
   "metadata": {},
   "source": [
    "6. Printear porcentaje de personas encuestadas por años en la compañía actual y por años en el puesto actual."
   ]
  },
  {
   "cell_type": "code",
   "execution_count": null,
   "id": "e7cb4e75-62ab-4c32-b210-a05f6944eabf",
   "metadata": {},
   "outputs": [],
   "source": []
  },
  {
   "cell_type": "markdown",
   "id": "0c7df29f-b36c-424b-b5a7-0c37e0ccfe99",
   "metadata": {},
   "source": [
    "7. Printear porcentajes de nivel de educación formal y estado, es decir: % educación secundaria, terciaria, universitaria, postgrado, doctorado, postdoctorado, completo, incompleto y en curso para cada uno."
   ]
  },
  {
   "cell_type": "code",
   "execution_count": null,
   "id": "e90f47ab-c8eb-4a92-8a36-2ed3c369deb4",
   "metadata": {},
   "outputs": [],
   "source": []
  },
  {
   "cell_type": "markdown",
   "id": "51786345-dfc6-4c3a-98d9-5e57bd1ce48b",
   "metadata": {},
   "source": [
    "8. Formatear las carreras universitarias:\n",
    "- Nombres capitalizados\n",
    "- Reemplazar vocales con tilde por vocales sin tilde.\n",
    "- Reemplazar `ñ` por `n`\n",
    "- *lic*, *lic.* por Licenciatura\n",
    "- *tec*, *tec.* por Tecnucatura\n",
    "* *cs, *cs.* por Ciencias\n",
    "* *ed, ed.* por Educación\n",
    "* Transformaciones que se consideren necesarias\n",
    "\n",
    "Printear porcentaje según carrera"
   ]
  },
  {
   "cell_type": "code",
   "execution_count": null,
   "id": "57336a2e-5dec-4c81-a3d5-89edbbe69da8",
   "metadata": {},
   "outputs": [],
   "source": []
  },
  {
   "cell_type": "markdown",
   "id": "ea803c6d-6a61-4d98-be72-116ae2855e70",
   "metadata": {},
   "source": [
    "9. Printear porcentaje de respuesta a las preguntas:\n",
    "- ¿Realizaste cursos de especialización?\n",
    "- Si realizaste, ¿Quién pagó por los cursos de especialización?"
   ]
  },
  {
   "cell_type": "code",
   "execution_count": null,
   "id": "99f82b25-fa8a-42b4-8349-19035ff67fce",
   "metadata": {},
   "outputs": [],
   "source": []
  },
  {
   "cell_type": "markdown",
   "id": "cb7a4544-062a-4429-abea-f0b7293b48f7",
   "metadata": {},
   "source": [
    "10. Printear porcentaje por identidad de género y personas con discapacidad"
   ]
  },
  {
   "cell_type": "code",
   "execution_count": null,
   "id": "a6e907fc-ecb6-4255-8eba-59b9199f14a6",
   "metadata": {},
   "outputs": [],
   "source": []
  },
  {
   "cell_type": "markdown",
   "id": "acde6b71-2537-421f-8398-2ca8afd34398",
   "metadata": {},
   "source": [
    "11. Salarios: calcular la mediana salarial para cada una de las siguientes categorías:\n",
    "- Salario según región\n",
    "- Salario por rol\n",
    "- Salario por experiencia\n",
    "- Salario por nivel de formación\n",
    "- Salario por carrera\n",
    "- Salario por tecnología\n",
    "- Salario por lenguaje de programación\n",
    "- Salario por género"
   ]
  },
  {
   "cell_type": "code",
   "execution_count": null,
   "id": "f0bec90b-39ac-4c13-b31b-b12715ffafd0",
   "metadata": {},
   "outputs": [],
   "source": []
  },
  {
   "cell_type": "markdown",
   "id": "bfd2e756-d810-4738-ab4a-4020aeb9bf4a",
   "metadata": {},
   "source": [
    "12. Printear porcentaje y salario según tipos de contrato ."
   ]
  },
  {
   "cell_type": "code",
   "execution_count": null,
   "id": "50a8f438-b75d-474d-9117-e03f24bc77bf",
   "metadata": {},
   "outputs": [],
   "source": []
  }
 ],
 "metadata": {
  "kernelspec": {
   "display_name": "Python 3 (ipykernel)",
   "language": "python",
   "name": "python3"
  },
  "language_info": {
   "codemirror_mode": {
    "name": "ipython",
    "version": 3
   },
   "file_extension": ".py",
   "mimetype": "text/x-python",
   "name": "python",
   "nbconvert_exporter": "python",
   "pygments_lexer": "ipython3",
   "version": "3.9.7"
  }
 },
 "nbformat": 4,
 "nbformat_minor": 5
}
